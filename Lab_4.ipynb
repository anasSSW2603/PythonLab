{
  "nbformat": 4,
  "nbformat_minor": 0,
  "metadata": {
    "colab": {
      "provenance": [],
      "include_colab_link": true
    },
    "kernelspec": {
      "name": "python3",
      "display_name": "Python 3"
    },
    "language_info": {
      "name": "python"
    }
  },
  "cells": [
    {
      "cell_type": "markdown",
      "metadata": {
        "id": "view-in-github",
        "colab_type": "text"
      },
      "source": [
        "<a href=\"https://colab.research.google.com/github/anasSSW2603/PythonLab3/blob/main/Lab_4.ipynb\" target=\"_parent\"><img src=\"https://colab.research.google.com/assets/colab-badge.svg\" alt=\"Open In Colab\"/></a>"
      ]
    },
    {
      "cell_type": "markdown",
      "source": [
        "4.1 2520 คือ ตัวเลขที่น้อยที่สุด ที่สามารถหารด้วยตัวเลขทุกตัวตั้งแต่ 1-10 จงหาจำนวนเต็มบวกที่น้อยที่สุดที่หารด้วยตัวเลขทุกตัวตั้งแต่ 1-20\n",
        "\n",
        "15 = 360360\n",
        "\n",
        "20 = 232792560\n",
        "\n",
        "ปล. ห้าม import math"
      ],
      "metadata": {
        "id": "-bpz7hteQPdz"
      }
    },
    {
      "cell_type": "code",
      "execution_count": 9,
      "metadata": {
        "id": "HSZUXcF2QMVn",
        "colab": {
          "base_uri": "https://localhost:8080/"
        },
        "outputId": "ac7df628-9695-47d1-b910-593d213f88ba"
      },
      "outputs": [
        {
          "output_type": "stream",
          "name": "stdout",
          "text": [
            "20\n",
            "232792560\n"
          ]
        }
      ],
      "source": [
        "n = int(input())\n",
        "num = 1\n",
        "for i in range(1, n + 1):\n",
        "    temp = num\n",
        "    while temp % i != 0:\n",
        "        temp += num\n",
        "    num = temp\n",
        "print(num)"
      ]
    },
    {
      "cell_type": "markdown",
      "source": [
        "4.2 จำนวนเฉพาะ (Prime Number) คือตัวเลขที่มีแต่ 1 กับตัวมันเองที่หารลงตัว โดยจำนวนเฉพาะ 6 ตัวแรกคือ 2, 3, 5, 7, 11, 13 โดยจำนวนเฉพาะตัวที่ 6 คือ 13 จงหาจำนวนเฉพาะตัวที่ 101\n",
        "\n",
        "=> 547"
      ],
      "metadata": {
        "id": "Wq1EFYHUWNOA"
      }
    },
    {
      "cell_type": "code",
      "source": [
        "prime_count = 0\n",
        "num = 1\n",
        "\n",
        "while prime_count < 101:\n",
        "    num += 1\n",
        "    is_prime = True\n",
        "    if num > 1:\n",
        "        if num <= 3:\n",
        "            is_prime = True\n",
        "        elif num % 2 == 0 or num % 3 == 0:\n",
        "            is_prime = False\n",
        "        else:\n",
        "            i = 5\n",
        "            while i * i <= num:\n",
        "                if num % i == 0 or num % (i + 2) == 0:\n",
        "                    is_prime = False\n",
        "                    break\n",
        "                i += 6\n",
        "    else:\n",
        "        is_prime = False\n",
        "\n",
        "    if is_prime:\n",
        "        prime_count += 1\n",
        "\n",
        "print(num)\n"
      ],
      "metadata": {
        "id": "cpMa6Vp0Vz_L",
        "outputId": "f1e75470-d1cf-4489-a94f-5f1372d3656a",
        "colab": {
          "base_uri": "https://localhost:8080/"
        }
      },
      "execution_count": null,
      "outputs": [
        {
          "output_type": "stream",
          "name": "stdout",
          "text": [
            "547\n"
          ]
        }
      ]
    },
    {
      "cell_type": "markdown",
      "source": [
        "1.\tกำหนดให้มี List หนึ่งประกอบด้วยตัวเลขจำนวนหนึ่ง และ ให้รับตัวเลขจำนวน 1 จำนวน จากนั้นให้หาว่าใน List มีตัวเลข 2 จำนวนใดที่บวกกันเท่ากับตัวเลขที่รับมา ให้แสดงคำตอบเป็น List เช่น Output: [0,1] โดยอาจมีมากกว่า 1 คำตอบ\n",
        "\n",
        "ตัวอย่าง list : [2, 7, 11, 15]\n",
        "\n",
        "Input : 9\n",
        "\n",
        "Output : 2 + 7 = 9 (ถ้าไม่มีให้บอก None)\n"
      ],
      "metadata": {
        "id": "-pUpw-m_WqFG"
      }
    },
    {
      "cell_type": "code",
      "source": [
        "numbers = [2, 7, 11, 15]\n",
        "target = int(input())\n",
        "\n",
        "results = []\n",
        "\n",
        "for i in range(len(numbers)):\n",
        "    for j in range(i + 1, len(numbers)):\n",
        "        if numbers[i] + numbers[j] == target:\n",
        "            results.append([i, j])\n",
        "\n",
        "if results:\n",
        "    for result in results:\n",
        "        print(f\"{numbers[result[0]]} + {numbers[result[1]]} = {target}\")\n",
        "else:\n",
        "    print(\"None\")\n"
      ],
      "metadata": {
        "id": "s3djwBi4ks1g",
        "outputId": "072f024b-95ac-4dbd-8a7a-a5aa8010e227",
        "colab": {
          "base_uri": "https://localhost:8080/"
        }
      },
      "execution_count": null,
      "outputs": [
        {
          "output_type": "stream",
          "name": "stdout",
          "text": [
            "26\n",
            "11 + 15 = 26\n"
          ]
        }
      ]
    },
    {
      "cell_type": "markdown",
      "source": [
        "2.\tให้เขียนโปรแกรมรับข้อมูล 1 บรรทัด ประกอบด้วยตัวเลข 1 หลัก จำนวนไม่เกิน 10 ตัว คั่นด้วยช่องว่าง จากนั้นให้นำตัวเลขที่รับเข้ามาเรียงกัน และหาลำดับการเรียงที่ทำให้มีค่าน้อยที่สุด โดยต้องไม่ขึ้นต้นด้วย 0\n",
        "\n",
        "Input : 9 4 6 2  \n",
        "\n",
        "คำตอบ 2469\n",
        "\n",
        "Input : 3 0 8 1 3 3\n",
        "\n",
        "คำตอบ : 103338\n"
      ],
      "metadata": {
        "id": "_3yLG291lSFy"
      }
    },
    {
      "cell_type": "code",
      "source": [
        "n = input()\n",
        "lst = n.split(' ')\n",
        "for i in range(len(lst)):\n",
        "    lst[i] = int(lst[i])\n",
        "lst.sort()\n",
        "if lst[0] == 0:\n",
        "    temp = lst[1]\n",
        "    lst[0] = temp\n",
        "    lst[1] = 0\n",
        "txt = ' '\n",
        "for i in lst:\n",
        "    txt += str(i)\n",
        "print(txt)\n"
      ],
      "metadata": {
        "id": "ACtXvMEyli0L",
        "colab": {
          "base_uri": "https://localhost:8080/"
        },
        "outputId": "c58dc452-c023-4c56-cf9d-5c85d551cc10"
      },
      "execution_count": 10,
      "outputs": [
        {
          "output_type": "stream",
          "name": "stdout",
          "text": [
            "9 4 6 2\n",
            " 2469\n"
          ]
        }
      ]
    },
    {
      "cell_type": "markdown",
      "source": [
        "3.\tจากตัวเลขต่อไปนี้ ตัวเลขติดกัน 4 ตัวที่เมื่อนำมาคูณกันแล้วมีค่ามากที่สุดคือ 9 × 9 × 8 × 9 = 5832\n",
        "\n",
        "73167176531330624919225119674426574742355349194934\n",
        "96983520312774506326239578318016984801869478851843\n",
        "85861560789112949495459501737958331952853208805511\n",
        "12540698747158523863050715693290963295227443043557\n",
        "66896648950445244523161731856403098711121722383113\n",
        "62229893423380308135336276614282806444486645238749\n",
        "30358907296290491560440772390713810515859307960866\n",
        "70172427121883998797908792274921901699720888093776\n",
        "65727333001053367881220235421809751254540594752243\n",
        "52584907711670556013604839586446706324415722155397\n",
        "53697817977846174064955149290862569321978468622482\n",
        "83972241375657056057490261407972968652414535100474\n",
        "82166370484403199890008895243450658541227588666881\n",
        "16427171479924442928230863465674813919123162824586\n",
        "17866458359124566529476545682848912883142607690042\n",
        "24219022671055626321111109370544217506941658960408\n",
        "07198403850962455444362981230987879927244284909188\n",
        "84580156166097919133875499200524063689912560717606\n",
        "05886116467109405077541002256983155200055935729725\n",
        "71636269561882670428252483600823257530420752963450\n",
        "\n",
        "จงหาเลขติดกัน 8 ตัวที่เมื่อนำมาคูณกันแล้วมีค่ามากที่สุด และเป็นเลขอะไร ผลคูณเท่ากับเท่าไร\n",
        "\n",
        "The maximum product is: 7838208\n",
        "The digits are: 88399879\n",
        "\n",
        "\n",
        "\n"
      ],
      "metadata": {
        "id": "Gv8aIY7dliSY"
      }
    },
    {
      "cell_type": "code",
      "source": [
        "x = \"73167176531330624919225119674426574742355349194934 96983520312774506326239578318016984801869478851843 85861560789112949495459501737958331952853208805511 12540698747158523863050715693290963295227443043557 66896648950445244523161731856403098711121722383113 62229893423380308135336276614282806444486645238749 30358907296290491560440772390713810515859307960866 70172427121883998797908792274921901699720888093776 65727333001053367881220235421809751254540594752243 52584907711670556013604839586446706324415722155397 53697817977846174064955149290862569321978468622482 83972241375657056057490261407972968652414535100474 82166370484403199890008895243450658541227588666881 16427171479924442928230863465674813919123162824586 17866458359124566529476545682848912883142607690042 24219022671055626321111109370544217506941658960408 07198403850962455444362981230987879927244284909188 84580156166097919133875499200524063689912560717606 05886116467109405077541002256983155200055935729725 71636269561882670428252483600823257530420752963450\"\n",
        "y = x.replace(' ', '')\n",
        "result = 0\n",
        "digi = \"\"\n",
        "prev = 0\n",
        "i = 0\n",
        "while len(y) > 8:\n",
        "    lst = y[:8]\n",
        "    y = y[1:]\n",
        "    sum = 1\n",
        "    for i in range(len(lst)):\n",
        "        sum *= int(lst[i])\n",
        "    prev = sum\n",
        "    if prev > result:\n",
        "        result = prev\n",
        "        digi = lst\n",
        "    i += 1\n",
        "print(f'The maximum product is: {result} The digits are: {digi}')"
      ],
      "metadata": {
        "id": "wvVqGMknmBu5",
        "colab": {
          "base_uri": "https://localhost:8080/"
        },
        "outputId": "ca6771d6-3842-4bfc-ec9b-9fd7f3cfdd8a"
      },
      "execution_count": 13,
      "outputs": [
        {
          "output_type": "stream",
          "name": "stdout",
          "text": [
            "The maximum product is: 7838208 The digits are: 88399879\n"
          ]
        }
      ]
    },
    {
      "cell_type": "markdown",
      "source": [
        "4.\tตัวเลข palindrome คือตัวเลขที่อ่านได้ทั้ง 2 ทาง แล้วมีค่าเท่ากัน เช่น 9009 โดย 9009 คือ palindrome ที่เกิดจากการคูณของตัวเลข 2 หลักที่มากที่สุด คือ 91x99 จงหา palindrome ที่มากที่สุดของตัวเลข 3 หลัก\n",
        "\n",
        "The largest palindrome product of 3-digit numbers is: 906609\n"
      ],
      "metadata": {
        "id": "fjy5LNC7m0We"
      }
    },
    {
      "cell_type": "code",
      "source": [
        "n = int(input())\n",
        "m = 0\n",
        "for i in range(1, int(\"9\"*n)):\n",
        "    for j in range(int(\"9\"*n),1,-1):\n",
        "          if str(i*j) == str(i*j)[::-1]:\n",
        "            if m == 0:\n",
        "               m = i*j\n",
        "            else:\n",
        "               if i*j >= m:\n",
        "                  m = i*j\n",
        "print(f'The largest palindrome product of 3-digit numbers is: {m}')"
      ],
      "metadata": {
        "id": "y-QY3hzVmsud",
        "colab": {
          "base_uri": "https://localhost:8080/"
        },
        "outputId": "750db06e-1649-40a2-e6b3-b5ca1bc253a6"
      },
      "execution_count": 22,
      "outputs": [
        {
          "output_type": "stream",
          "name": "stdout",
          "text": [
            "3\n",
            "The largest palindrome product of 3-digit numbers is: 906609\n"
          ]
        }
      ]
    },
    {
      "cell_type": "markdown",
      "source": [
        "5.\tกำหนดให้ string มีเพียงสัญลักษณ์ '(', ')', '{', '}', '[' และ ']' ให้ตรวจสอบว่า String ถูกต้อง โดย เมื่อมีวงเล็บเปิด จะต้องมีวงเล็บปิดที่เป็นชนิดเดียวกัน จำนวนเท่ากันที่เป็นคู่ของมัน\n",
        "\n",
        "```\n",
        "Input: s = \"()\"\n",
        "Output: true\n",
        "Input: s = \"()[]{}\"\n",
        "Output: true\n",
        "Input: s = \"[()]{}\"\n",
        "Output: true\n",
        "Input: s = \"(]\"\n",
        "Output: false\n",
        "```\n",
        "\n",
        "\n"
      ],
      "metadata": {
        "id": "rUZvLJ-JnGJY"
      }
    },
    {
      "cell_type": "code",
      "source": [
        "n = input().strip(\"\")\n",
        "lst = [*n]\n",
        "status = True\n",
        "while len(lst) != 0:\n",
        "  if lst[0] == '(' and  ')' in lst:\n",
        "    for i, v in enumerate(lst):\n",
        "      if v == ')':\n",
        "        del lst[i]\n",
        "        break\n",
        "    n_lst = lst[1::]\n",
        "    lst = n_lst\n",
        "  elif lst[0] == '{' and  '}' in lst:\n",
        "    for i, v in enumerate(lst):\n",
        "      if v == '}':\n",
        "        del lst[i]\n",
        "        break\n",
        "    n_lst = lst[1::]\n",
        "    lst = n_lst\n",
        "  elif lst[0] == '[' and  ']' in lst:\n",
        "    for i, v in enumerate(lst):\n",
        "      if v == ']':\n",
        "        del lst[i]\n",
        "        break\n",
        "    n_lst = lst[1::]\n",
        "    lst = n_lst\n",
        "\n",
        "  else:\n",
        "    status = False\n",
        "    break\n",
        "print(status)"
      ],
      "metadata": {
        "id": "Ku8ts4x7nk1y",
        "colab": {
          "base_uri": "https://localhost:8080/"
        },
        "outputId": "178780dd-9407-40d6-be9a-a121b1681bf1"
      },
      "execution_count": 23,
      "outputs": [
        {
          "output_type": "stream",
          "name": "stdout",
          "text": [
            "[()]{}\n",
            "True\n"
          ]
        }
      ]
    },
    {
      "cell_type": "markdown",
      "source": [
        "6.\tกำหนดให้รับข้อมูล Integer (เป็นบวกหรือลบก็ได้) จากนั้นให้แสดงผลลัพธ์ที่ reverse ตัวเลขตามตัวอย่าง\n",
        "\n",
        "```\n",
        "Input: x = 123\n",
        "Output: 321\n",
        "Input: x = -123\n",
        "Output: -321\n",
        "Input: x = 120\n",
        "Output: 21\n",
        "```\n",
        "\n"
      ],
      "metadata": {
        "id": "PLL9Wdqqnx7o"
      }
    },
    {
      "cell_type": "code",
      "source": [
        "x1 = input()\n",
        "if x1[1:].isnumeric() :\n",
        "  x1 = int(x1)\n",
        "  x1 = str(x1)\n",
        "  if x1[0] == '-':\n",
        "    print('-', end='')\n",
        "    i = x1[-1:0:-1]  #x[::-1]\n",
        "    i = int(i)\n",
        "    print(i, end='')\n",
        "  else:\n",
        "      i = x1[::-1]\n",
        "      i = int(i)\n",
        "      print(i, end='')\n",
        "else:\n",
        "  print(\"error\")\n"
      ],
      "metadata": {
        "id": "9je7kDfWfzCv",
        "outputId": "2d9e0961-12a6-4da9-b33a-464fa28d28cf",
        "colab": {
          "base_uri": "https://localhost:8080/"
        }
      },
      "execution_count": 6,
      "outputs": [
        {
          "output_type": "stream",
          "name": "stdout",
          "text": [
            "4\n",
            "error\n"
          ]
        }
      ]
    },
    {
      "cell_type": "markdown",
      "source": [
        "7.\tเขียนโปรแกรมเพื่อแสดงปิรามิดบนจอภาพ โดยแสดงเป็นรูปสี่เหลี่ยม ตัวเลขเริ่มจาก 0  และเพิ่มค่าตามลําดับจํานวนขั้น จาก 0 ถึง N (รับค่า N จากคีย์บอร์ด) ค่าของ N อยู่ระหว่าง 0-9 ดังตัวอย่าง\n",
        "\n",
        "\n",
        "```\n",
        "\t\t\t\t\t\t\t\t\t         0000000\n",
        "\t\t\t\t\t\t\t    00000\t\t0111110\n",
        "\t\t\t\t\t000\t\t 01110\t\t0122210\n",
        "\t\t\t0\t\t010\t\t01210\t\t0123210\n",
        "\t\t\t\t\t000\t\t 01110\t\t0122210\n",
        "\t\t\t\t\t\t\t    00000\t\t0111110\n",
        "\t\t\t\t\t\t\t\t\t         0000000\n",
        "\n",
        "\t\t\tn=0\t\tn=1\t\tn=2\t\tn=3\n",
        "\n",
        "```\n",
        "\n"
      ],
      "metadata": {
        "id": "KboD6c8rn52a"
      }
    },
    {
      "cell_type": "code",
      "source": [
        "n = 3\n",
        "for i in range(n+1, 0, -1):\n",
        "    for j in range(n+1, 0, -1):\n",
        "      print(n+1-max(i,j), end=\"\")\n",
        "    for j in range(2,n+2):\n",
        "      print(n+1-max(i,j), end=\"\")\n",
        "    print()\n",
        "for i in range(2,n+2):\n",
        "    for j in range(n+1,0,-1):\n",
        "      print(n+1-max(i,j), end=\"\")\n",
        "    for j in range(2,n+2):\n",
        "      print(n+1-max(i,j), end=\"\")\n",
        "    print()"
      ],
      "metadata": {
        "id": "sGhw6Iyfobiz",
        "colab": {
          "base_uri": "https://localhost:8080/"
        },
        "outputId": "9e88ae04-209a-48ea-e5a6-7923fd451224"
      },
      "execution_count": 30,
      "outputs": [
        {
          "output_type": "stream",
          "name": "stdout",
          "text": [
            "0000000\n",
            "0111110\n",
            "0122210\n",
            "0123210\n",
            "0122210\n",
            "0111110\n",
            "0000000\n"
          ]
        }
      ]
    },
    {
      "cell_type": "markdown",
      "source": [
        "8.\tเขียนโปรแกรมเพื่อแสดงปิรามิดบนจอภาพ โดยแสดงเป็นรูปสี่เหลี่ยม ตัวเลขเริ่มจาก 0  และเพิ่มค่าตามลําดับจํานวนขั้น จาก 0 ถึง N (รับค่า N จากคีย์บอร์ด) กําหนดให้จุดศูนย์กลางของรูปสี่เหลี่ยมอยู่ที่แถว 13 คอลัมน์ 40 ของจอภาพค่าของ N อยู่ระหว่าง 0-9 ดังตัวอย่าง\n",
        "\n",
        "\n",
        "\n",
        "```\n",
        "\t\t\t\t\t\t\t\t\t            0\n",
        "\t\t\t\t\t\t\t      0\t\t    010\n",
        "\t\t\t\t\t  0\t\t  010\t\t  01210\n",
        "\t\t\t0\t\t010\t\t01210\t\t0123210\n",
        "\t\t\t\t\t  0\t\t  010\t\t  01210\n",
        "\t\t\t\t\t\t\t      0\t\t    010\n",
        "\t\t\t\t\t\t\t\t\t            0\n",
        "\n",
        "\t\t\tn=0\t\tn=1\t\tn=2\t\tn=3\n",
        "\n",
        "```\n",
        "\n"
      ],
      "metadata": {
        "id": "ecRYU6Lkob6Q"
      }
    },
    {
      "cell_type": "code",
      "source": [
        "n = int(input(\"Enter N (0-9): \"))\n",
        "\n",
        "if 0 < n <= 9:\n",
        "    col = 40\n",
        "\n",
        "    for i in range(2 * n + 1):\n",
        "        if i <= n:\n",
        "            x = i\n",
        "        else:\n",
        "            x = 2 * n - i\n",
        "\n",
        "        line = \"\"\n",
        "        for j in range(x + 1):\n",
        "            line += str(j)\n",
        "        for j in range(x - 1, -1, -1):\n",
        "            line += str(j)\n",
        "\n",
        "        y = col - len(line) // 2\n",
        "        print(\" \" * y + line)\n",
        "else:\n",
        "    print(\"error\")\n"
      ],
      "metadata": {
        "id": "sWje7wlxfwaV",
        "outputId": "f3f875ea-395e-49bc-e27d-bb5e970b5dbd",
        "colab": {
          "base_uri": "https://localhost:8080/"
        }
      },
      "execution_count": null,
      "outputs": [
        {
          "output_type": "stream",
          "name": "stdout",
          "text": [
            "Enter N (0-9): 3\n",
            "                                        0\n",
            "                                       010\n",
            "                                      01210\n",
            "                                     0123210\n",
            "                                      01210\n",
            "                                       010\n",
            "                                        0\n"
          ]
        }
      ]
    },
    {
      "cell_type": "markdown",
      "source": [
        "9.\tให้เขียนโปรแกรมสร้างรูปสามเหลี่ยมที่วางซ้อนกัน 3 รูป โดยแต่ละรูปสร้างมาจากเครื่องหมาย \"*\" โดยกําหนดให้รับตัวเลขระดับของสามเหลี่ยมจากคีย์บอร์ด จากตัวอย่างข้างล่างนี้เป็นรูปสามเหลี่ยมระดับที่ 3 และ 4\n",
        "\n",
        "\n",
        "\n",
        "```\n",
        "              *\n",
        "\t\t     ***\n",
        "\t\t    *****\n",
        "\t\t   *     *\n",
        "\t      ***   ***\n",
        "\t     ***** *****\n",
        "\n",
        "  \t\t    *\n",
        "\t  \t   ***\n",
        "\t\t    *****\n",
        "\t\t   *******\n",
        "\t      *       *\n",
        "\t     ***     ***\n",
        "\t    *****   *****\n",
        "\t   ******* *******\n",
        "\n",
        "```\n",
        "\n"
      ],
      "metadata": {
        "id": "Po50A-Kuo5t4"
      }
    },
    {
      "cell_type": "code",
      "source": [
        "n = 4\n",
        "for i in range(1, n + 1):\n",
        "    for j in range(1,n*2-i+1):\n",
        "      print(' ', end='')\n",
        "    for j in range(1,i*2):\n",
        "      print('*', end='')\n",
        "    print()\n",
        "\n",
        "for i in range(1, n + 1):\n",
        "    for j in range(1,n-i+1):\n",
        "      print(' ', end='')\n",
        "    for j in range(1,i*2):\n",
        "      print('*', end='')\n",
        "    for j in range(1,n-i+1):\n",
        "      print(' ', end='')\n",
        "    for j in range(1,n-i+1):\n",
        "      print(' ', end='')\n",
        "    for j in range(1,i*2):\n",
        "      print('*', end='')\n",
        "    print()"
      ],
      "metadata": {
        "id": "xVPC-mXpfxdj",
        "colab": {
          "base_uri": "https://localhost:8080/"
        },
        "outputId": "d5b69763-47ce-4ee0-b6bf-abea1cf2cb60"
      },
      "execution_count": 33,
      "outputs": [
        {
          "output_type": "stream",
          "name": "stdout",
          "text": [
            "       *\n",
            "      ***\n",
            "     *****\n",
            "    *******\n",
            "   *      *\n",
            "  ***    ***\n",
            " *****  *****\n",
            "**************\n"
          ]
        }
      ]
    }
  ]
}