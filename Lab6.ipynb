{
  "nbformat": 4,
  "nbformat_minor": 0,
  "metadata": {
    "colab": {
      "provenance": [],
      "include_colab_link": true
    },
    "kernelspec": {
      "name": "python3",
      "display_name": "Python 3"
    },
    "language_info": {
      "name": "python"
    }
  },
  "cells": [
    {
      "cell_type": "markdown",
      "metadata": {
        "id": "view-in-github",
        "colab_type": "text"
      },
      "source": [
        "<a href=\"https://colab.research.google.com/github/anasSSW2603/PythonLab3/blob/main/Lab6.ipynb\" target=\"_parent\"><img src=\"https://colab.research.google.com/assets/colab-badge.svg\" alt=\"Open In Colab\"/></a>"
      ]
    },
    {
      "cell_type": "markdown",
      "source": [
        "Ex. 6.1 ให้เขียนฟังก์ชันชื่อ test_ pangram เพื่อตรวจสอบว่า String ที่รับเข้ามาเป็น pangram หรือไม่ โดย pangram คือ string ที่ประกอบด้วยตัวอักษรทุกตัวในภาษาอังกฤษ (ต้องมีอักษรแต่ละตัวปรากฏอย่างน้อย 1 ครั้ง) เช่น\n",
        "The quick brown fox jumps over the lazy dog\n",
        "รับข้อมูลเป็น string และ return เป็น True หรือ False"
      ],
      "metadata": {
        "id": "g1jKRrPZdrD9"
      }
    },
    {
      "cell_type": "code",
      "execution_count": null,
      "metadata": {
        "colab": {
          "base_uri": "https://localhost:8080/"
        },
        "id": "oc_mt8z2dluv",
        "outputId": "41516d4b-c214-47e4-d8b4-ee3301382380"
      },
      "outputs": [
        {
          "output_type": "stream",
          "name": "stdout",
          "text": [
            "True\n",
            "False\n"
          ]
        }
      ],
      "source": [
        "def test_pangram(str):\n",
        "    str = str.lower()\n",
        "\n",
        "    for i in \"abcdefghijklmnopqrstuvwxyz\":\n",
        "        if i not in str:\n",
        "            return False\n",
        "\n",
        "    return True\n",
        "\n",
        "print(test_pangram(\"The quick brown fox jumps over the lazy dog\"))\n",
        "print(test_pangram(\"Anas Srisuwan\"))\n"
      ]
    },
    {
      "cell_type": "markdown",
      "source": [
        "Ex 6.2 จงเขียน โปรแกรมที่รวมผลลัพธ์ ของตัวเลขที่อยู่ใน List โดยกำหนดให้ฟังก์ชัน ชื่อ find_sum(n_list,n) โดย n_list เป็น List ของตัวเลขที่มีความยาว n โดยให้เขียนในแบบ Recursion\n"
      ],
      "metadata": {
        "id": "jsFdK2rreKku"
      }
    },
    {
      "cell_type": "code",
      "source": [
        "def find_sum(n_list,n):\n",
        "  if n == 0:\n",
        "    return 0\n",
        "  else:\n",
        "    return n_list[n-1] + find_sum(n_list, n-1)\n",
        "\n",
        "find_sum([1,2,3,4,5,6,7,8,9,10],10)"
      ],
      "metadata": {
        "id": "SWhMgyAc0uSI",
        "colab": {
          "base_uri": "https://localhost:8080/"
        },
        "outputId": "33b8c49e-6fd1-4eb4-8541-8efbc0d3ed33"
      },
      "execution_count": null,
      "outputs": [
        {
          "output_type": "execute_result",
          "data": {
            "text/plain": [
              "55"
            ]
          },
          "metadata": {},
          "execution_count": 6
        }
      ]
    },
    {
      "cell_type": "markdown",
      "source": [
        "Ex 6.3 กำหนดให้ List x เก็บ String และตัวแปร c เก็บตัวอักษร\n",
        "ให้สร้าง List d ที่เก็บจำนวนครั้งที่ตัวอักษรใน c ปรากฏในแต่ละ String ของ List x โดยใช้ List comprehension\n",
        "\n",
        "- เช่น x = [‘abba’, ‘babana’, ‘ann’]; c = ‘a’\n",
        "- จะได้ d = [2, 3, 1]\n",
        "\n",
        "ให้เขียนในฟังก์ชัน count_char_in_string(x,c) แล้ว return เป็น List คำตอบ"
      ],
      "metadata": {
        "id": "S9FRT-zz05-A"
      }
    },
    {
      "cell_type": "code",
      "source": [
        "def count_char_in_string(x,c):\n",
        "  y = [s.count(c) for s in x]\n",
        "  return y\n",
        "\n",
        "x =['abba', 'babana', 'ann']\n",
        "c = 'a'\n",
        "print(count_char_in_string(x,c))\n",
        "\n",
        "# count_char_in_string(['abba', 'babana', 'ann'],'a') => [2, 3, 1]\n",
        "# count_char_in_string(['apple', 'banana', 'cherry'],'a') => [1, 3, 1]\n",
        "# count_char_in_string(['dog', 'cat', 'fish'],'z') => [0, 0, 0]\n",
        "# count_char_in_string(['abc', 'bcb', 'cab'],'b') => [1, 2, 1]\n",
        "# count_char_in_string(['', 'a', ''],'a') => [0, 1, 0]\n",
        "# count_char_in_string(['@home', '#hash', 'space '],'#') => [0, 1, 0]"
      ],
      "metadata": {
        "id": "yQZQFVa01JPs",
        "colab": {
          "base_uri": "https://localhost:8080/"
        },
        "outputId": "c1f954ce-aa97-457a-edd4-74339af7b23f"
      },
      "execution_count": null,
      "outputs": [
        {
          "output_type": "stream",
          "name": "stdout",
          "text": [
            "[2, 3, 1]\n"
          ]
        }
      ]
    },
    {
      "cell_type": "markdown",
      "source": [
        "Ex 6.4  กำหนดให้ List x เป็น List ของจำนวนเต็ม\n",
        "ให้เขียนโปรแกรมเพื่อลบจำนวนเต็มทุกตัวใน x ที่มีค่าเป็นลบ โดยใช้ List comprehension\n",
        "\n",
        "- เช่น x = [ [1, -3, 2], [-8, 5], [-1, -4, -3] ]\n",
        "- ได้คำตอบเป็น [ [1, 2], [5], [] ]\n",
        "\n",
        "ให้เขียนในฟังก์ชัน delete_minus(x) แล้ว return เป็น List คำตอบ\n",
        "Hint : ถ้าคิดไม่ออกให้ทดลองเขียนแบบปกติก่อน แล้วค่อยลดรูป\n"
      ],
      "metadata": {
        "id": "vRtEJLkP5MLT"
      }
    },
    {
      "cell_type": "code",
      "source": [
        "def delete_minus(x):\n",
        "  x = [[i for i in j if i >= 0] for j in x]\n",
        "  return x\n",
        "\n",
        "print(delete_minus([[1, -3, 2], [-8, 5], [-1, -4, -3]])) # => [[1, 2], [5], []]\n",
        "# delete_minus([[0, -1, -2], [3, 4, -5], [-6, 7]]) => [[0], [3, 4], [7]]\n",
        "# delete_minus([[10, -10, 20], [-30, 30], [40, -40]]) => [[10, 20], [30], [40]]\n",
        "# delete_minus([[1, 2, 3], [4, 5], [6]]) => [[1, 2, 3], [4, 5], [6]]\n",
        "# delete_minus([[-1, -2, -3], [-4, -5], [-6]]) => [[], [], []]\n",
        "# delete_minus([[-10, -20, -30], [-40, -50], [-60]]) => [[], [], []]"
      ],
      "metadata": {
        "id": "SDA5CALo5WPK",
        "outputId": "fbe5792a-21f4-4e21-8072-239b7d160cd3",
        "colab": {
          "base_uri": "https://localhost:8080/"
        }
      },
      "execution_count": 1,
      "outputs": [
        {
          "output_type": "stream",
          "name": "stdout",
          "text": [
            "[[1, 2], [5], []]\n"
          ]
        }
      ]
    },
    {
      "cell_type": "markdown",
      "source": [
        "Ex 6.5 ให้เขียนโปรแกรมเพื่อรับข้อมูล 1 บรรทัด ที่ประกอบด้วยจำนวนเต็มหลายจำนวน (คั่นด้วยช่องว่าง)\n",
        "ให้ส่งคืนว่ามีจำนวนที่เป็นลบกี่จำนวน โดยใช้ List comprehension\n",
        "ให้เขียนในฟังก์ชัน count_minus(str) แล้ว return เป็นคำตอบ"
      ],
      "metadata": {
        "id": "nLUpu-7v6MCa"
      }
    },
    {
      "cell_type": "code",
      "source": [
        "def count_minus(str):\n",
        "  x = str.split()\n",
        "  y = [i for i in x if int(i) < 0]\n",
        "  return len(y)\n",
        "\n",
        "print(count_minus(\"1 2 -3 4 -5\")) #=> 2\n",
        "# count_minus(\"-1 -2 -3 -4 -5\") => 5\n",
        "# count_minus(\"1 2 3 4 5\") => 0\n",
        "# count_minus(\"0 0 0 0 0\") => 0\n",
        "# count_minus(\"-10 -20 -30 -40 -50\") => 5"
      ],
      "metadata": {
        "id": "BO0JESLu9cVj",
        "outputId": "e985b8df-4686-4bc4-a09a-70e0901ef872",
        "colab": {
          "base_uri": "https://localhost:8080/"
        }
      },
      "execution_count": 3,
      "outputs": [
        {
          "output_type": "stream",
          "name": "stdout",
          "text": [
            "2\n"
          ]
        }
      ]
    },
    {
      "cell_type": "markdown",
      "source": [
        "Ex 6.6 ให้เขียนโปรแกรมเพื่อรับ string 1 ตัว\n",
        "ให้ส่งคืนเฉพาะตัวอักษรที่เป็นภาษาอังกฤษ โดยใช้ List comprehension\n",
        "ให้เขียนในฟังก์ชัน only_english(string1) แล้ว return เป็นคำตอบเป็น string"
      ],
      "metadata": {
        "id": "18YUhkQ96Fiw"
      }
    },
    {
      "cell_type": "code",
      "source": [
        "def only_english(string1):\n",
        "  x = [i for i in string1 if i.isalpha()]\n",
        "  return ''.join(x)\n",
        "\n",
        "\n",
        "print(only_english(\"Hello, World!\"))# => \"Hello World\"\n",
        "print(only_english(\"This is a test.\")) #=> \"This is a test\"\n",
        "print(only_english(\"12345\")) #=> \"\"\n",
        "print(only_english(\"abcABC123\")) #=> \"abcABC\"\n",
        "print(only_english(\"!@#$%^&*()\")) #=> \"\""
      ],
      "metadata": {
        "id": "QM_Vbz-k9shU",
        "outputId": "f957285d-6ada-4b2f-e251-1c4b90735966",
        "colab": {
          "base_uri": "https://localhost:8080/"
        }
      },
      "execution_count": 6,
      "outputs": [
        {
          "output_type": "stream",
          "name": "stdout",
          "text": [
            "HelloWorld\n",
            "Thisisatest\n",
            "\n",
            "abcABC\n",
            "\n"
          ]
        }
      ]
    },
    {
      "cell_type": "markdown",
      "source": [
        "Ex 6.7 กำหนดให้ list x และ y เป็น list ของจำนวนเต็ม โดยมีขนาดเท่ากัน\n",
        "ให้ return list ที่เป็นผลบวกของ list x และ y โดยใช้ list comprehension\n",
        "เขียนให้ function ชื่อ add2list(lst1,lst2)\n",
        "\n",
        "\n"
      ],
      "metadata": {
        "id": "S5dKtu4o96b-"
      }
    },
    {
      "cell_type": "code",
      "source": [
        "def add2list(lst1,lst2):\n",
        "  x = [lst1[i] + lst2[i] for i in range(len(lst1))]\n",
        "  return x\n",
        "\n",
        "print(add2list([1, 2, 3], [4, 5, 6])) #=> [5, 7, 9]\n",
        "# add2list([-1, -2, -3], [1, 2, 3]) => [0, 0, 0]\n",
        "# add2list([0, 0, 0], [10, 20, 30]) => [10, 20, 30]\n",
        "# add2list([7, 8, 9], [3, 2, 1]) => [10, 10, 10]\n",
        "# add2list([100, 200, 300], [400, 500, 600]) => [500, 700, 900]\n",
        "# add2list([1, 2, 3, 4, 5], [6, 7, 8, 9, 10]) => [7, 9, 11, 13, 15]\n"
      ],
      "metadata": {
        "id": "L18pzqF5-AtR",
        "outputId": "5f877825-f5f8-4137-e906-55163226f0f7",
        "colab": {
          "base_uri": "https://localhost:8080/"
        }
      },
      "execution_count": 9,
      "outputs": [
        {
          "output_type": "stream",
          "name": "stdout",
          "text": [
            "[5, 7, 9]\n"
          ]
        }
      ]
    },
    {
      "cell_type": "markdown",
      "source": [
        "1.\tกำหนดให้ m เป็น list ของ list ของ Integer ให้แปลง m ให้เป็น list ของ integer โดยใช้ List Comprehension โดยให้เขียนเป็น ฟังก์ชัน ชื่อ flatten_list(lst) และ return เป็น list คำตอบ\n",
        "- Input : [ [1, 2, 3], [4, 5, 6] ]\n",
        "- Output : [1, 2, 3, 4, 5, 6]\n"
      ],
      "metadata": {
        "id": "5HpBdNsU-4SW"
      }
    },
    {
      "cell_type": "code",
      "source": [
        "def flatten_list(lst):\n",
        "  m = [i for j in lst for i in j]\n",
        "  return m\n",
        "\n",
        "\n",
        "print(flatten_list([[1, 2, 3], [4, 5, 6]]))# => [1, 2, 3, 4, 5, 6]\n",
        "# flatten_list([[7, 8], [9, 10], [11, 12]]) => [7, 8, 9, 10, 11, 12]\n",
        "# flatten_list([[0], [1], [2], [3]]) => [0, 1, 2, 3]\n",
        "# flatten_list([[1, 1, 1], [2, 2], [3]]) => [1, 1, 1, 2, 2, 3]\n",
        "# flatten_list([[5, 6, 7], [8], [9, 10]]) => [5, 6, 7, 8, 9, 10]\n"
      ],
      "metadata": {
        "id": "nfKGEY7d--zX",
        "outputId": "d54a9395-a9e5-43bf-9270-4c54843d213c",
        "colab": {
          "base_uri": "https://localhost:8080/"
        }
      },
      "execution_count": 11,
      "outputs": [
        {
          "output_type": "stream",
          "name": "stdout",
          "text": [
            "[1, 2, 3, 4, 5, 6]\n"
          ]
        }
      ]
    },
    {
      "cell_type": "markdown",
      "source": [
        "2.\tกำหนดให้ s เป็น list ของ Integer ให้เขียนโปรแกรม ตัดตัวเลขที่ซ้ำกันใน list ให้เหลือเพียงตัวเลขเดียว โดยใช้ list comprehension (ห้ามใช้ set) โดยมีขั้นตอนดังนี้\n",
        "-\tเรียงลำดับข้อมูลใน list\n",
        "-\tสร้าง list ใหม่ โดยนำข้อมูลใน list ตัวที่ติดกันมาพิจารณาจากซ้ายไปขวา หากค่าไม่เท่ากันให้นำไปใส่ใน list ใหม่\n",
        "-\tนำตัวขวาสุด (ตัวสุดท้าย) เพิ่มเข้าไปใน list ใหม่ ก็จะได้ s ที่ไม่มีตัวซ้ำ\n",
        "-\tโดยให้เขียนเป็นฟังก์ชัน ชื่อ remove_duplicate(s)\n",
        "\n",
        "- Input : [1, 2, 3, 3, 4, 5, 6]\n",
        "- Output : [1, 2, 3, 4, 5, 6]\n",
        "\n",
        "ห้ามใช้ sort"
      ],
      "metadata": {
        "id": "_FXeyEnm_y8X"
      }
    },
    {
      "cell_type": "code",
      "source": [
        "def remove_duplicate(s):\n",
        "    new_s = []\n",
        "    s = [new_s.append(i) for i in s if i not in new_s]\n",
        "    for i in range(len(new_s)):\n",
        "        for j in range(len(new_s)):\n",
        "            if new_s[i] < new_s[j]:\n",
        "                x = new_s[j]\n",
        "                new_s[j] = new_s[i]\n",
        "                new_s[i] = x\n",
        "\n",
        "    return new_s\n",
        "\n",
        "# ทดสอบ\n",
        "print(remove_duplicate([1, 2, 3, 3, 4, 5, 6]))\n",
        "print(remove_duplicate([5, 1, 3, 3, 2, 5, 1]))\n",
        "print(remove_duplicate([7, 7, 8, 8, 8, 9]))\n",
        "print(remove_duplicate([10, 10, 10, 10]))\n",
        "print(remove_duplicate([1, 2, 2, 3, 4, 4, 4, 5]))"
      ],
      "metadata": {
        "id": "iH8ceRWJ_5wq",
        "colab": {
          "base_uri": "https://localhost:8080/"
        },
        "outputId": "0834eae5-9585-4982-c2bf-3b4f8ed8c6ac"
      },
      "execution_count": null,
      "outputs": [
        {
          "output_type": "stream",
          "name": "stdout",
          "text": [
            "[1, 2, 3, 4, 5, 6]\n",
            "[1, 2, 3, 5]\n",
            "[7, 8, 9]\n",
            "[10]\n",
            "[1, 2, 3, 4, 5]\n"
          ]
        }
      ]
    },
    {
      "cell_type": "markdown",
      "source": [
        "3.\tกำหนดให้มี 2 list คือ lst1 และ lst2 ให้ค้นหาสมาชิกที่มีในทั้ง 2 list โดยใช้ list comprehension\n",
        "(ห้ามใช้ set) โดยให้เขียนเป็นฟังก์ชันชื่อ common_member(lst1, lst2) โดย return เป็น list ที่มีสมาชิกทั้ง 2 list\n",
        "- Input : lst1 = [1, 2, 4, 5, 6] lst2 = [2, 3, 4]\n",
        "- Output : [2, 4]\n"
      ],
      "metadata": {
        "id": "f9smt54DAyYU"
      }
    },
    {
      "cell_type": "code",
      "source": [
        "def common_member(lst1, lst2):\n",
        "\n",
        "  x = [i for i in lst1 if i in lst2]\n",
        "  return x\n",
        "\n",
        "print(common_member([1, 2, 4, 5, 6], [2, 3, 4]))# => [2, 4]\n",
        "# common_member([1, 2, 3, 4, 5], [6, 7, 8]) => []\n",
        "# common_member([1, 2, 3, 4, 5], [1, 2, 3, 4, 5]) => [1, 2, 3, 4, 5]\n",
        "# common_member([1, 2, 3, 4, 5], [5, 4, 3, 2, 1]) => [1, 2, 3, 4, 5]\n",
        "# common_member([1, 2, 3, 4, 5], [6, 7, 8, 9, 10]) => []\n"
      ],
      "metadata": {
        "id": "3K2MCpiWA-tX",
        "outputId": "dff69e24-5f99-4c59-ca3a-028d1f6106b5",
        "colab": {
          "base_uri": "https://localhost:8080/"
        }
      },
      "execution_count": 13,
      "outputs": [
        {
          "output_type": "stream",
          "name": "stdout",
          "text": [
            "[2, 4]\n"
          ]
        }
      ]
    },
    {
      "cell_type": "markdown",
      "source": [
        "4.\tกำหนดให้ s เป็น String ให้เขียนโปรแกรมโดยใช้ List comprehension โดยให้ตัดตัวอักษรภาษาอังกฤษที่เป็นสระ a, e, i, o, u ออกจากประโยคให้หมด เช่น\n",
        "\n",
        "- Input : “common_member” จะได้ Output เป็น “cmmn mmbr”\n",
        "\n"
      ],
      "metadata": {
        "id": "V71CdsnEBWu8"
      }
    },
    {
      "cell_type": "code",
      "source": [
        "def remove_vowels(s):\n",
        "  s = [i for i in s if i not in 'aeiou']\n",
        "  return ''.join(s)\n",
        "\n",
        "print(remove_vowels(\"common_member\"))# => \"cmmn mmbr\"\n",
        "# remove_vowels(\"hello world\") => \"hll wrld\"\n",
        "# remove_vowels(\"aeiou\") => \"\"\n",
        "# remove_vowels(\"qwertyuiop\") => \"qwert\n",
        "# remove_vowels(\"abcdefghijklmnopqrstuvwxyz\") => \"bcdfghjklmnp"
      ],
      "metadata": {
        "id": "UNjxlDMqBcSz",
        "outputId": "92471761-50f3-4b55-c0f7-f86c95d9bd40",
        "colab": {
          "base_uri": "https://localhost:8080/"
        }
      },
      "execution_count": 16,
      "outputs": [
        {
          "output_type": "stream",
          "name": "stdout",
          "text": [
            "cmmn_mmbr\n"
          ]
        }
      ]
    },
    {
      "cell_type": "markdown",
      "source": [
        "5.\tให้เขียนโปรแกรมรับ list ของจำนวนเต็มชุดหนึ่ง โดย list นี้จะมีสมาชิกพิเศษอยู่ที่ตัวสุดท้าย ซึ่งจะมีค่าเป็นลบเสมอ (สมาชิกตัวอื่นเป็นบวกหรือลบก็ได้) ให้สร้าง list ใหม่ที่เกิดจากสมาชิกทุกตัว (ยกเว้นตัวสุดท้าย) ลบด้วยสมาชิกตัวสุดท้าย\n",
        "- Input : [1, 10, 2, -5]\n",
        "- Output: [-4, 5, -3]\n",
        "- Input : [100, 0, -1]\n",
        "- Output: [99, -1]\n",
        "- Input : [3, -3]\n",
        "\n"
      ],
      "metadata": {
        "id": "Zo07ebrTBjgA"
      }
    },
    {
      "cell_type": "code",
      "source": [
        "def remove_last_element(lst):\n",
        "  lst = [lst[i] + lst[-1] for i in range(len(lst)-1)]\n",
        "  return lst\n",
        "\n",
        "print(remove_last_element([1, 10, 2, -5]))# => [-4, 5, -3]\n",
        "# remove_last_element([100, 0, -1]) => [99, -1]\n",
        "# remove_last_element([3, -3]) => [0]\n",
        "\n"
      ],
      "metadata": {
        "id": "cSSMJX5fBi8-",
        "outputId": "abf50bed-946b-47c8-dd28-14daa02cc995",
        "colab": {
          "base_uri": "https://localhost:8080/"
        }
      },
      "execution_count": 23,
      "outputs": [
        {
          "output_type": "stream",
          "name": "stdout",
          "text": [
            "[-4, 5, -3]\n"
          ]
        }
      ]
    },
    {
      "cell_type": "markdown",
      "source": [
        "6.\tกำหนดให้ s เป็น String ให้เขียนโปรแกรมเพื่อหา คำ ที่มีความยาวน้อยกว่า 5 ตัวอักษร โดยใช้ list comprehension\n",
        "- Input : “A total of 16 playable characters!”\n",
        "- Output : “A total of 16”\n",
        "\n"
      ],
      "metadata": {
        "id": "kguZ7w78CP0W"
      }
    },
    {
      "cell_type": "code",
      "source": [
        "def find_short_words(s):\n",
        "  a = ' '.join([x for x in s.split() if len(x) <5 ])\n",
        "  print(a)\n",
        "\n",
        "find_short_words(\"A total of 16 playable characters!\")\n",
        "find_short_words(\"The quick brown fox jumps over the lazy dog\")\n",
        "find_short_words(\"Python is a great programming language\")\n",
        "find_short_words(\"Short words are kept short and long words are ignored\")\n",
        "# find_short_words(\"A total of 16 playable characters!\") => \"A total of 16\"\n",
        "# find_short_words(\"The quick brown fox jumps over the lazy dog\") => \"The fox over the dog\"\n",
        "# find_short_words(\"Python is a great programming language\") => \"is a\"\n",
        "# find_short_words(\"Short words are kept short and long words are ignored\") => \"are kept and are\"\n"
      ],
      "metadata": {
        "id": "IN6wcH_WCVJv",
        "colab": {
          "base_uri": "https://localhost:8080/"
        },
        "outputId": "de4b81a2-b88c-4c14-854f-93b1119a7f93"
      },
      "execution_count": null,
      "outputs": [
        {
          "output_type": "stream",
          "name": "stdout",
          "text": [
            "A of 16\n",
            "The fox over the lazy dog\n",
            "is a\n",
            "are kept and long are\n"
          ]
        }
      ]
    },
    {
      "cell_type": "markdown",
      "source": [
        "7.\tให้เขียนโปรแกรมเพื่อคำนวณหา rank ของรหัสนักศึกษาที่กำหนด โดยให้เรียงตามคะแนน โดย rank = 1 คือ มีคะแนนสูงสุด โดยใช้ list comprehension\n",
        "กำหนดให้มีข้อมูล s_score มีตัวอย่างดังนี้\n",
        "\n",
        "s_score = [\t[‘65015001’, 87.25],\n",
        "\t\t[‘65015002’, 77.00],\n",
        "\t\t[‘65015003’, 82.50],\n",
        "\t\t[‘65015004’, 69.75],\n",
        "\t\t[‘65015005’, 66.00]  ]\n",
        "    \n",
        "ให้เขียนฟังก์ชัน find_rank( s_score, stu_id ) โดย s_score เป็น list ของคะแนน และ std_id เป็นรหัสนักศึกษาที่ต้องการหา rank\n",
        "เช่น find_rank ( s_score, ‘65015004’) จะ return 4 เพราะมีคะแนนเป็นอันดับ 4\n"
      ],
      "metadata": {
        "id": "yioC3udBDK3M"
      }
    },
    {
      "cell_type": "code",
      "source": [
        "def find_rank(s_score, stu_id):\n",
        "  s_score = sorted(s_score, key=lambda x: x[1], reverse=True)\n",
        "  for i in range(len(s_score)):\n",
        "    if s_score[i][0] == stu_id:\n",
        "      return i+1\n",
        "\n",
        "s_score = [['65015001', 87.25], ['65015002', 77.00], ['65015003', 82.50'], ['65015004', 69.75], ['65015005', 66.00']]\n",
        "print(find_rank(s_score, '65015004'))  # Output: 4\n",
        "\n",
        "# Test Case 2\n",
        "s_score = [['65015001', 90.00], ['65015002', 80.00], ['65015003', 85.00'], ['65015004', 70.00], ['65015005', 60.00']]\n",
        "print(find_rank(s_score, '65015002'))  # Output: 2\n",
        "\n",
        "# Test Case 3\n",
        "s_score = [['65015001', 95.00], ['65015002', 95.00], ['65015003', 90.00], ['65015004', 85.00], ['65015005', 80.00']]\n",
        "print(find_rank(s_score, '65015001'))  # Output: 1\n",
        "\n",
        "# Test Case 4\n",
        "s_score = ['65015001', 50.00], ['65015002', 60.00], ['65015003', 70.00], ['65015004', 80.00], ['65015005', 90.00']\n",
        "print(find_rank(s_score, '65015005'))  # Output: 1\n",
        "\n",
        "# Test Case 5\n",
        "s_score = [['65015001', 55.00], ['65015002', 65.00], ['65015003', 75.00], ['65015004', 85.00], ['65015005', 95.00']]\n",
        "print(find_rank(s_score, '65015003'))  # Output: 3\n",
        "\n"
      ],
      "metadata": {
        "id": "72EkAIBjDTO_",
        "outputId": "948d8d7c-4030-493d-f35f-40a3a9052776",
        "colab": {
          "base_uri": "https://localhost:8080/",
          "height": 106
        }
      },
      "execution_count": 26,
      "outputs": [
        {
          "output_type": "error",
          "ename": "SyntaxError",
          "evalue": "unterminated string literal (detected at line 15) (<ipython-input-26-6f42281efca2>, line 15)",
          "traceback": [
            "\u001b[0;36m  File \u001b[0;32m\"<ipython-input-26-6f42281efca2>\"\u001b[0;36m, line \u001b[0;32m15\u001b[0m\n\u001b[0;31m    s_score = [['65015001', 95.00], ['65015002', 95.00], ['65015003', 90.00], ['65015004', 85.00], ['65015005', 80.00']]\u001b[0m\n\u001b[0m                                                                                                                     ^\u001b[0m\n\u001b[0;31mSyntaxError\u001b[0m\u001b[0;31m:\u001b[0m unterminated string literal (detected at line 15)\n"
          ]
        }
      ]
    },
    {
      "cell_type": "markdown",
      "source": [
        "8.\tให้เขียนโปรแกรม เพื่อหาข้อมูลที่มีความถี่มากกว่าครึ่งหนึ่งของจำนวนข้อมูลที่รับเข้ามา แต่ถ้าไม่พบให้แสดง Not found โดยใช้ list comprehension\n",
        "\n",
        "- เช่น \t[4, 5, 5, 10] ได้ผลลัพธ์เป็น Not found\n",
        "-\t[4, 5, 5] ได้ผลลัพธ์เป็น 5\n",
        "-\t[10, 5, 5, 3, 5] ได้ผลลัพธ์เป็น 5\n",
        "-\t[2, 4, 2, 4, 2, 4] ได้ผลลัพธ์เป็น Not found\n",
        "\n",
        "ให้เขียนเป็นฟังก์ชัน ชื่อ more_than_half(n_list) โดย n_list เป็นข้อมูลนำเข้า และ return เป็นผลลัพธ์ หรือ Not found\n"
      ],
      "metadata": {
        "id": "oJGkdpmfEH2e"
      }
    },
    {
      "cell_type": "code",
      "source": [
        "def more_than_half(n_list):\n",
        "  for i in n_list:\n",
        "    if n_list.count(i) > len(n_list)/2:\n",
        "      return i\n",
        "  return \"Not found\"\n",
        "\n",
        "print(more_than_half([4, 5, 5, 10]))# => \"Not found\"\n",
        "print(more_than_half([4, 5, 5]))# => 5\n",
        "print(more_than_half([10, 5, 5, 3, 5]))# => 5\n",
        "print(more_than_half([2, 4, 2, 4, 2, 4]))# => \"Not found\"\n"
      ],
      "metadata": {
        "id": "ahXL6sfbEQUQ",
        "outputId": "8ab94fd5-224a-4e6e-ccbe-d379dcb67437",
        "colab": {
          "base_uri": "https://localhost:8080/"
        }
      },
      "execution_count": 28,
      "outputs": [
        {
          "output_type": "stream",
          "name": "stdout",
          "text": [
            "Not found\n",
            "5\n",
            "5\n",
            "Not found\n"
          ]
        }
      ]
    },
    {
      "cell_type": "markdown",
      "source": [
        "9.\tจงเขียนโปรแกรมในแบบ recursion เพื่อกลับ String เช่น\n",
        "- Input : 'desserts'\n",
        "- Output : 'stressed'\n"
      ],
      "metadata": {
        "id": "0oTFJs2PEkL5"
      }
    },
    {
      "cell_type": "code",
      "source": [
        "x = input()\n",
        "\n",
        "def reverse_string(x):\n",
        "  if len(x) == 0:\n",
        "    return x\n",
        "  else:\n",
        "    return reverse_string(x[1:]) + x[0]\n",
        "\n",
        "print(reverse_string(x))"
      ],
      "metadata": {
        "id": "_h5KwR9WEo7e",
        "outputId": "6185bd38-341b-4338-c214-4dd866139786",
        "colab": {
          "base_uri": "https://localhost:8080/"
        }
      },
      "execution_count": 29,
      "outputs": [
        {
          "output_type": "stream",
          "name": "stdout",
          "text": [
            "desserts\n",
            "stressed\n"
          ]
        }
      ]
    }
  ]
}